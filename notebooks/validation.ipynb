{
 "cells": [
  {
   "cell_type": "code",
   "execution_count": 2,
   "metadata": {},
   "outputs": [],
   "source": [
    "from subgrounds import Subgrounds\n",
    "\n",
    "sg = Subgrounds()\n",
    "\n",
    "wsteth = sg.load_subgraph(\"https://api.thegraph.com/subgraphs/id/QmcerP6tGLquPUGHpCGSxzoBBu32GNeYWwPgW7dEtHagAU\")\n",
    "\n"
   ]
  },
  {
   "cell_type": "code",
   "execution_count": 6,
   "metadata": {},
   "outputs": [],
   "source": [
    "actions = wsteth.Query.actions(\n",
    "    first=1000,\n",
    "    orderBy=wsteth.Action.timestamp,\n",
    "    orderDirection='asc'\n",
    ")\n",
    "\n",
    "sg.query_df([\n",
    "    actions.id,\n",
    "    actions.timestamp,\n",
    "    actions.action_type,\n",
    "    actions.transfer.amount,\n",
    "    actions.transfer.sender,\n",
    "    actions.transfer.receiver,\n",
    "]).to_csv(\"actions.csv\")"
   ]
  }
 ],
 "metadata": {
  "kernelspec": {
   "display_name": "Python 3",
   "language": "python",
   "name": "python3"
  },
  "language_info": {
   "codemirror_mode": {
    "name": "ipython",
    "version": 3
   },
   "file_extension": ".py",
   "mimetype": "text/x-python",
   "name": "python",
   "nbconvert_exporter": "python",
   "pygments_lexer": "ipython3",
   "version": "3.10.4"
  },
  "orig_nbformat": 4
 },
 "nbformat": 4,
 "nbformat_minor": 2
}
